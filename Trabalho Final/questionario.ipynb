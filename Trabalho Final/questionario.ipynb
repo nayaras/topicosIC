{
 "cells": [
  {
   "cell_type": "markdown",
   "metadata": {},
   "source": [
    "# Disciplina: Tópicos em Inteligência Computacional\n",
    "Instituto Federal do Norte de Minas Gerais Campus Montes Claros <br/>\n",
    "Curso: Ciência da Computação <br/>\n",
    "Professora: Luciana Balieiro Cosme<br/>\n",
    "Equipe: Marianna Leandra, Nayara Thaiza <br/>\n",
    "**Trabalho Final: Exploração da base de dados do IMDB** <br/>\n",
    "Base de dados: https://datasets.imdbws.com/ <br/>\n",
    "Ultima atualização da base usada: 20/11/2018 <br/>\n",
    "**Objetivo: Analisar os filmes do IMDB com mais avalaiações quanto ao gênero preferido** <br/>\n"
   ]
  },
  {
   "cell_type": "markdown",
   "metadata": {},
   "source": [
    "**Base 1: Títulos** <br/>\n",
    "tconst: id do título <br/>\n",
    "titleType:o tipo / formato do título (por exemplo, filme, short, tvseries, tvepisode, video, etc) <br/>\n",
    "primaryTitle - o título mais popular / o título usado pelos cineastas em materiais promocionais no momento do lançamento <br/>\n",
    "originalTitle - título original, no idioma original <br/>\n",
    "isAdult (booleano) - 0: título não adulto; 1: título adulto <br/>\n",
    "startYear (YYYY) - representa o ano de lançamento de um título. No caso da série de TV, é o ano de início da série <br/>\n",
    "endYear (YYYY) - ano final da série de TV. \"\\ N\" para todos os outros tipos de título <br/>\n",
    "runtimeMinutes - tempo de execução principal do título, em minutos <br/>\n",
    "genres - inclui até três gêneros associados ao título <br/>"
   ]
  },
  {
   "cell_type": "code",
   "execution_count": 1,
   "metadata": {},
   "outputs": [
    {
     "data": {
      "text/plain": [
       "(5419681, 9)"
      ]
     },
     "execution_count": 1,
     "metadata": {},
     "output_type": "execute_result"
    }
   ],
   "source": [
    "import pandas\n",
    "import matplotlib.pyplot as plt\n",
    "#importando base 1\n",
    "imdbTitulos = pandas.read_csv(\"titleBasics.tsv\", sep='\\t',dtype= { \"tconst\": str,\n",
    "                                                                'titleType': str,\n",
    "                                                                'primaryTitle': str,\n",
    "                                                                'originalTitle': str,\n",
    "                                                                'isAdult': str,\n",
    "                                                                'startYear': str,\n",
    "                                                                'endYear': str,\n",
    "                                                                'runtimeMinutes': str,\n",
    "                                                                'genres': str})\n",
    "imdbTitulos.shape"
   ]
  },
  {
   "cell_type": "markdown",
   "metadata": {},
   "source": [
    "**Base 2: Notas dos Títulos** <br/>\n",
    "averageRating - média ponderada de todas as classificações individuais de usuários <br/>\n",
    "numVotes - número de votos que o título recebeu <br/>"
   ]
  },
  {
   "cell_type": "code",
   "execution_count": 2,
   "metadata": {},
   "outputs": [
    {
     "data": {
      "text/plain": [
       "(887588, 3)"
      ]
     },
     "execution_count": 2,
     "metadata": {},
     "output_type": "execute_result"
    }
   ],
   "source": [
    "#importando base 2\n",
    "imdbNotas=pandas.read_csv(\"titleRatings.tsv\", sep='\\t',dtype={\n",
    "    \"tconst\": str, \n",
    "    'averageRating': str,\n",
    "    'numVotes': str})\n",
    "\n",
    "\n",
    "imdbNotas.shape"
   ]
  },
  {
   "cell_type": "code",
   "execution_count": 3,
   "metadata": {},
   "outputs": [
    {
     "data": {
      "text/plain": [
       "Index(['tconst', 'titleType', 'primaryTitle', 'originalTitle', 'isAdult',\n",
       "       'startYear', 'endYear', 'runtimeMinutes', 'genres'],\n",
       "      dtype='object')"
      ]
     },
     "execution_count": 3,
     "metadata": {},
     "output_type": "execute_result"
    }
   ],
   "source": [
    "imdbTitulos.columns[0:9]"
   ]
  },
  {
   "cell_type": "code",
   "execution_count": 4,
   "metadata": {},
   "outputs": [
    {
     "data": {
      "text/plain": [
       "Index(['tconst', 'averageRating', 'numVotes'], dtype='object')"
      ]
     },
     "execution_count": 4,
     "metadata": {},
     "output_type": "execute_result"
    }
   ],
   "source": [
    "imdbNotas.columns[0:3]"
   ]
  },
  {
   "cell_type": "code",
   "execution_count": 5,
   "metadata": {},
   "outputs": [],
   "source": [
    "tabela = pandas.DataFrame(imdbTitulos, columns=['tconst', 'titleType', 'primaryTitle', 'originalTitle', 'isAdult',\n",
    "       'startYear', 'endYear', 'runtimeMinutes', 'genres'])\n",
    "#tabela.head(10)"
   ]
  },
  {
   "cell_type": "code",
   "execution_count": 6,
   "metadata": {},
   "outputs": [],
   "source": [
    "#seleciona os filmes\n",
    "\n",
    "tabela=tabela.loc[(tabela['titleType'].notnull())]\n",
    "filmes = tabela[tabela['titleType']=='movie']\n",
    "#filmes.describe()"
   ]
  },
  {
   "cell_type": "code",
   "execution_count": 7,
   "metadata": {},
   "outputs": [
    {
     "data": {
      "text/html": [
       "<div>\n",
       "<style scoped>\n",
       "    .dataframe tbody tr th:only-of-type {\n",
       "        vertical-align: middle;\n",
       "    }\n",
       "\n",
       "    .dataframe tbody tr th {\n",
       "        vertical-align: top;\n",
       "    }\n",
       "\n",
       "    .dataframe thead th {\n",
       "        text-align: right;\n",
       "    }\n",
       "</style>\n",
       "<table border=\"1\" class=\"dataframe\">\n",
       "  <thead>\n",
       "    <tr style=\"text-align: right;\">\n",
       "      <th></th>\n",
       "      <th>tconst</th>\n",
       "      <th>averageRating</th>\n",
       "      <th>numVotes</th>\n",
       "    </tr>\n",
       "  </thead>\n",
       "  <tbody>\n",
       "    <tr>\n",
       "      <th>0</th>\n",
       "      <td>tt0000001</td>\n",
       "      <td>5.8</td>\n",
       "      <td>1437</td>\n",
       "    </tr>\n",
       "    <tr>\n",
       "      <th>1</th>\n",
       "      <td>tt0000002</td>\n",
       "      <td>6.3</td>\n",
       "      <td>171</td>\n",
       "    </tr>\n",
       "    <tr>\n",
       "      <th>2</th>\n",
       "      <td>tt0000003</td>\n",
       "      <td>6.6</td>\n",
       "      <td>1037</td>\n",
       "    </tr>\n",
       "    <tr>\n",
       "      <th>3</th>\n",
       "      <td>tt0000004</td>\n",
       "      <td>6.4</td>\n",
       "      <td>102</td>\n",
       "    </tr>\n",
       "    <tr>\n",
       "      <th>4</th>\n",
       "      <td>tt0000005</td>\n",
       "      <td>6.2</td>\n",
       "      <td>1734</td>\n",
       "    </tr>\n",
       "    <tr>\n",
       "      <th>5</th>\n",
       "      <td>tt0000006</td>\n",
       "      <td>5.5</td>\n",
       "      <td>91</td>\n",
       "    </tr>\n",
       "    <tr>\n",
       "      <th>6</th>\n",
       "      <td>tt0000007</td>\n",
       "      <td>5.5</td>\n",
       "      <td>579</td>\n",
       "    </tr>\n",
       "    <tr>\n",
       "      <th>7</th>\n",
       "      <td>tt0000008</td>\n",
       "      <td>5.6</td>\n",
       "      <td>1539</td>\n",
       "    </tr>\n",
       "    <tr>\n",
       "      <th>8</th>\n",
       "      <td>tt0000009</td>\n",
       "      <td>5.5</td>\n",
       "      <td>73</td>\n",
       "    </tr>\n",
       "    <tr>\n",
       "      <th>9</th>\n",
       "      <td>tt0000010</td>\n",
       "      <td>6.9</td>\n",
       "      <td>5125</td>\n",
       "    </tr>\n",
       "  </tbody>\n",
       "</table>\n",
       "</div>"
      ],
      "text/plain": [
       "      tconst averageRating numVotes\n",
       "0  tt0000001           5.8     1437\n",
       "1  tt0000002           6.3      171\n",
       "2  tt0000003           6.6     1037\n",
       "3  tt0000004           6.4      102\n",
       "4  tt0000005           6.2     1734\n",
       "5  tt0000006           5.5       91\n",
       "6  tt0000007           5.5      579\n",
       "7  tt0000008           5.6     1539\n",
       "8  tt0000009           5.5       73\n",
       "9  tt0000010           6.9     5125"
      ]
     },
     "execution_count": 7,
     "metadata": {},
     "output_type": "execute_result"
    }
   ],
   "source": [
    "#manipulando as notas\n",
    "notas = pandas.DataFrame(imdbNotas, columns=['tconst', 'averageRating', 'numVotes'])\n",
    "notas.head(10)"
   ]
  },
  {
   "cell_type": "code",
   "execution_count": 8,
   "metadata": {},
   "outputs": [],
   "source": [
    "#convertendo de texto para numeros\n",
    "notas['averageRating'] = pandas.to_numeric(notas['averageRating'])\n",
    "notas['numVotes'] = pandas.to_numeric(notas['numVotes'])\n",
    "\n",
    "#notas.describe()\n"
   ]
  },
  {
   "cell_type": "code",
   "execution_count": 9,
   "metadata": {},
   "outputs": [],
   "source": [
    "#titulos com mais de 500 mil votos\n",
    "titulosFiltro = notas[notas['numVotes'] > 500000],['tconst','averageRating']\n",
    "#titulosFiltro\n",
    "#titulosFiltro[0]['tconst']\n"
   ]
  },
  {
   "cell_type": "code",
   "execution_count": 10,
   "metadata": {},
   "outputs": [],
   "source": [
    "#pegando só os ids dos títulos\n",
    "coluna = titulosFiltro[0]['tconst']\n",
    "#len(coluna)"
   ]
  },
  {
   "cell_type": "code",
   "execution_count": 11,
   "metadata": {},
   "outputs": [],
   "source": [
    "#encontra todos os matches entre as duas listas (interseção)\n",
    "#vai filtrar os filmes dentre todos os títulos com mais de 500 mil votos\n",
    "idFilmes = set(coluna) & set(filmes['tconst'])\n",
    "#idFilmes\n",
    "#print('Quantidade de matches: ', len(idFilmes))"
   ]
  },
  {
   "cell_type": "code",
   "execution_count": 12,
   "metadata": {},
   "outputs": [],
   "source": [
    "#Convertendo set em lista\n",
    "idFilmesList = list(idFilmes)\n",
    "#len(idFilmesList)\n",
    "genero = 0"
   ]
  },
  {
   "cell_type": "markdown",
   "metadata": {},
   "source": [
    "**Conclusão final** <br/>\n",
    "Dentre 5419681 títulos, 503265 são filmes, totalizando aproximadamente 9% da base. <br/>\n",
    "Do total de filmes, somente 175 possuem mais de 500 mil votos, totalizando menos de 0,5%. <br/>\n",
    "Destes 175, somente 2 filmes possuem nota acima de 9, The Godfather (1972), conhecido no Brasil como O poderoso chefão e The Shawshank Redemption (1994), entitulado com Um sonho de liberdade em português, com notas 9.2(1382225 votos) e 9.3(2017298 votos), respectivamente. Ambos os filmes possuiam Drama como gênero (The godfather também tem como gênero Crime). <br/>\n",
    "Em análise final, é possível perceber (graficamente) que os gêneros que prevaleceram nas avalições foram: Ação e Drama, seguidos de Sci-Fi, Thriller, Adventure, Crime e Fantasy.\n",
    "\n",
    "\n",
    "\n"
   ]
  },
  {
   "cell_type": "code",
   "execution_count": 13,
   "metadata": {
    "scrolled": true
   },
   "outputs": [
    {
     "name": "stdout",
     "output_type": "stream",
     "text": [
      "11\n"
     ]
    }
   ],
   "source": [
    "import tkinter as tk\n",
    "from tkinter import messagebox\n",
    "\n",
    "root = tk.Tk()\n",
    "\n",
    "v = tk.IntVar()\n",
    "v.set(1)  # initializing the choice, i.e. Python\n",
    "\n",
    "languages = [\n",
    "    ('Action', 1), ('Animation', 2), \n",
    "    ('Adventure',3), ('Family',4), ('Biography',5), \n",
    "    ('Romance',6), ('Crime',7), ('Horror',8), \n",
    "    ('Comedy',9), ('Music',10), ('Drama',11),\n",
    "          ('Sport',12), ('Fantasy',13), \n",
    "    ('Mystery',14), ('History',15), ('Sci-Fi',16), \n",
    "    ('War', 17), ('Thriller',18),  ('Western',19)\n",
    "]\n",
    "\n",
    "def fechar():\n",
    "    root.destroy()\n",
    "    \n",
    "    \n",
    "\n",
    "def ShowChoice():\n",
    "    tk.Label(root, \n",
    "         text=\"\"\"Obrigado pela escolha, clique em prosseguir!\"\"\",\n",
    "         justify = tk.LEFT,\n",
    "         padx = 20).pack()\n",
    "    \n",
    "\n",
    "tk.Label(root, \n",
    "         text=\"\"\"Escolha seu gênero favorito:\"\"\",\n",
    "         justify = tk.LEFT,\n",
    "         padx = 20).pack()\n",
    "\n",
    "for val, language in enumerate(languages):\n",
    "    tk.Radiobutton(root, \n",
    "                  text=language,\n",
    "                  padx = 20,\n",
    "                  variable=v, \n",
    "                  command= ShowChoice,\n",
    "                  value=val).pack(anchor=tk.W)\n",
    "\n",
    "\n",
    "\n",
    "tk.Button(root, text = \"Prosseguir\",justify = tk.LEFT,\n",
    "         padx = 20, command = fechar).pack()\n",
    "\n",
    "root.mainloop()\n",
    "\n",
    "genero = v.get()+1\n",
    "#str(genero)\n",
    "print(genero)\n",
    "\n",
    "\n",
    "\n",
    "\n"
   ]
  },
  {
   "cell_type": "code",
   "execution_count": 14,
   "metadata": {},
   "outputs": [],
   "source": [
    "vetorNomes = []\n",
    "i=0\n",
    "while i < len(idFilmesList):\n",
    "    filme = filmes[filmes['tconst'] == idFilmesList[i]]\n",
    "    gen = filmes[filmes['tconst'] == idFilmesList[i]]['genres'].apply(lambda x: x.split(','))\n",
    "    if genero == 1:\n",
    "        c1=gen.values[0][0]\n",
    "        if c1  == 'Action':\n",
    "            vetorNomes.append(filme)\n",
    "        elif len(gen.values[0]) == 2:\n",
    "            c2=gen.values[0][1]\n",
    "            if c2  == 'Action':\n",
    "                vetorNomes.append(filme)\n",
    "        elif len(gen.values[0]) == 3:\n",
    "            c3=c1=gen.values[0][2]\n",
    "            if c3  == 'Action':\n",
    "                vetorNomes.append(filme)\n",
    "    elif genero == 2:\n",
    "\n",
    "        c1=gen.values[0][0]\n",
    "        if c1  == 'Animation':\n",
    "            vetorNomes.append(filme)\n",
    "        elif len(gen.values[0]) == 2:\n",
    "            c2=gen.values[0][1]\n",
    "            if c2  == 'Animation':\n",
    "                vetorNomes.append(filme)\n",
    "        elif len(gen.values[0]) == 3:\n",
    "            c3=c1=gen.values[0][2]\n",
    "            if c3  == 'Animation':\n",
    "                vetorNomes.append(filme)\n",
    "    elif genero == 3:\n",
    "\n",
    "        c1=gen.values[0][0]\n",
    "        if c1  == 'Adventure':\n",
    "            vetorNomes.append(filme)\n",
    "        elif len(gen.values[0]) == 2:\n",
    "            c2=gen.values[0][1]\n",
    "            if c2  == 'Adventure':\n",
    "                vetorNomes.append(filme)\n",
    "        elif len(gen.values[0]) == 3:\n",
    "            c3=c1=gen.values[0][2]\n",
    "            if c3  == 'Adventure':\n",
    "                vetorNomes.append(filme)\n",
    "    elif genero == 4:\n",
    "\n",
    "        c1=gen.values[0][0]\n",
    "        if c1  == 'Family':\n",
    "            vetorNomes.append(filme)\n",
    "        elif len(gen.values[0]) == 2:\n",
    "            c2=gen.values[0][1]\n",
    "            if c2  == 'Family':\n",
    "                vetorNomes.append(filme)\n",
    "        elif len(gen.values[0]) == 3:\n",
    "            c3=c1=gen.values[0][2]\n",
    "            if c3  == 'Family':\n",
    "                vetorNomes.append(filme)\n",
    "    elif genero == 5:\n",
    "\n",
    "        c1=gen.values[0][0]\n",
    "        if c1  == 'Biography':\n",
    "            vetorNomes.append(filme)\n",
    "        elif len(gen.values[0]) == 2:\n",
    "            c2=gen.values[0][1]\n",
    "            if c2  == 'Biography':\n",
    "                vetorNomes.append(filme)\n",
    "        elif len(gen.values[0]) == 3:\n",
    "            c3=c1=gen.values[0][2]\n",
    "            if c3  == 'Biography':\n",
    "                vetorNomes.append(filme)\n",
    "    elif genero == 6:\n",
    "\n",
    "        c1=gen.values[0][0]\n",
    "        if c1  == 'Romance':\n",
    "            vetorNomes.append(filme)\n",
    "        elif len(gen.values[0]) == 2:\n",
    "            c2=gen.values[0][1]\n",
    "            if c2  == 'Romance':\n",
    "                vetorNomes.append(filme)\n",
    "        elif len(gen.values[0]) == 3:\n",
    "            c3=c1=gen.values[0][2]\n",
    "            if c3  == 'Romance':\n",
    "                vetorNomes.append(filme)\n",
    "    elif genero == 7:\n",
    "\n",
    "        c1=gen.values[0][0]\n",
    "        if c1  == 'Crime':\n",
    "            vetorNomes.append(filme)\n",
    "        elif len(gen.values[0]) == 2:\n",
    "            c2=gen.values[0][1]\n",
    "            if c2  == 'Crime':\n",
    "                vetorNomes.append(filme)\n",
    "        elif len(gen.values[0]) == 3:\n",
    "            c3=c1=gen.values[0][2]\n",
    "            if c3  == 'Crime':\n",
    "                vetorNomes.append(filme)\n",
    "    elif genero == 8:\n",
    "\n",
    "        c1=gen.values[0][0]\n",
    "        if c1  == 'Horror':\n",
    "            vetorNomes.append(filme)\n",
    "        elif len(gen.values[0]) == 2:\n",
    "            c2=gen.values[0][1]\n",
    "            if c2  == 'Horror':\n",
    "                vetorNomes.append(filme)\n",
    "        elif len(gen.values[0]) == 3:\n",
    "            c3=c1=gen.values[0][2]\n",
    "            if c3  == 'Horror':\n",
    "                vetorNomes.append(filme)\n",
    "    elif genero == 9:\n",
    "\n",
    "        c1=gen.values[0][0]\n",
    "        if c1  == 'Comedy':\n",
    "            vetorNomes.append(filme)\n",
    "        elif len(gen.values[0]) == 2:\n",
    "            c2=gen.values[0][1]\n",
    "            if c2  == 'Comedy':\n",
    "                vetorNomes.append(filme)\n",
    "        elif len(gen.values[0]) == 3:\n",
    "            c3=c1=gen.values[0][2]\n",
    "            if c3  == 'Comedy':\n",
    "                vetorNomes.append(filme)\n",
    "    elif genero == 10:\n",
    "\n",
    "        c1=gen.values[0][0]\n",
    "        if c1  == 'Music':\n",
    "            vetorNomes.append(filme)\n",
    "        elif len(gen.values[0]) == 2:\n",
    "            c2=gen.values[0][1]\n",
    "            if c2  == 'Music':\n",
    "                vetorNomes.append(filme)\n",
    "        elif len(gen.values[0]) == 3:\n",
    "            c3=c1=gen.values[0][2]\n",
    "            if c3  == 'Music':\n",
    "                vetorNomes.append(filme)\n",
    "    elif genero == 11:\n",
    "\n",
    "        c1=gen.values[0][0]\n",
    "        if c1  == 'Drama':\n",
    "            vetorNomes.append(filme)\n",
    "        elif len(gen.values[0]) == 2:\n",
    "            c2=gen.values[0][1]\n",
    "            if c2  == 'Drama':\n",
    "                vetorNomes.append(filme)\n",
    "        elif len(gen.values[0]) == 3:\n",
    "            c3=c1=gen.values[0][2]\n",
    "            if c3  == 'Drama':\n",
    "                vetorNomes.append(filme)\n",
    "    elif genero == 12:\n",
    "\n",
    "        c1=gen.values[0][0]\n",
    "        if c1  == 'Sport':\n",
    "            vetorNomes.append(filme)\n",
    "        elif len(gen.values[0]) == 2:\n",
    "            c2=gen.values[0][1]\n",
    "            if c2  == 'Sport':\n",
    "                vetorNomes.append(filme)\n",
    "        elif len(gen.values[0]) == 3:\n",
    "            c3=c1=gen.values[0][2]\n",
    "            if c3  == 'Sport':\n",
    "                vetorNomes.append(filme)\n",
    "    elif genero == 13:\n",
    "\n",
    "        c1=gen.values[0][0]\n",
    "        if c1  == 'Fantasy':\n",
    "            vetorNomes.append(filme)\n",
    "        elif len(gen.values[0]) == 2:\n",
    "            c2=gen.values[0][1]\n",
    "            if c2  == 'Fantasy':\n",
    "                vetorNomes.append(filme)\n",
    "        elif len(gen.values[0]) == 3:\n",
    "            c3=c1=gen.values[0][2]\n",
    "            if c3  == 'Fantasy':\n",
    "                vetorNomes.append(filme)\n",
    "    elif genero == 14:\n",
    "\n",
    "        c1=gen.values[0][0]\n",
    "        if c1  == 'Mystery':\n",
    "            vetorNomes.append(filme)\n",
    "        elif len(gen.values[0]) == 2:\n",
    "            c2=gen.values[0][1]\n",
    "            if c2  == 'Mystery':\n",
    "                vetorNomes.append(filme)\n",
    "        elif len(gen.values[0]) == 3:\n",
    "            c3=c1=gen.values[0][2]\n",
    "            if c3  == 'Mystery':\n",
    "                vetorNomes.append(filme)\n",
    "    elif genero == 15:\n",
    "\n",
    "        c1=gen.values[0][0]\n",
    "        if c1  == 'History':\n",
    "            vetorNomes.append(filme)\n",
    "        elif len(gen.values[0]) == 2:\n",
    "            c2=gen.values[0][1]\n",
    "            if c2  == 'History':\n",
    "                vetorNomes.append(filme)\n",
    "        elif len(gen.values[0]) == 3:\n",
    "            c3=c1=gen.values[0][2]\n",
    "            if c3  == 'History':\n",
    "                vetorNomes.append(filme)\n",
    "    elif genero == 16:\n",
    "\n",
    "        c1=gen.values[0][0]\n",
    "        if c1  == 'Sci-Fi':\n",
    "            vetorNomes.append(filme)\n",
    "        elif len(gen.values[0]) == 2:\n",
    "            c2=gen.values[0][1]\n",
    "            if c2  == 'Sci-Fi':\n",
    "                vetorNomes.append(filme)\n",
    "        elif len(gen.values[0]) == 3:\n",
    "            c3=c1=gen.values[0][2]\n",
    "            if c3  == 'Sci-Fi':\n",
    "                vetorNomes.append(filme)\n",
    "    elif genero == 17:\n",
    "\n",
    "        c1=gen.values[0][0]\n",
    "        if c1  == 'War':\n",
    "            vetorNomes.append(filme)\n",
    "        elif len(gen.values[0]) == 2:\n",
    "            c2=gen.values[0][1]\n",
    "            if c2  == 'War':\n",
    "                vetorNomes.append(filme)\n",
    "        elif len(gen.values[0]) == 3:\n",
    "            c3=c1=gen.values[0][2]\n",
    "            if c3  == 'War':\n",
    "                vetorNomes.append(filme)\n",
    "    elif genero == 18:\n",
    "\n",
    "        c1=gen.values[0][0]\n",
    "        if c1  == 'Thriller':\n",
    "            vetorNomes.append(filme)\n",
    "        elif len(gen.values[0]) == 2:\n",
    "            c2=gen.values[0][1]\n",
    "            if c2  == 'Thriller':\n",
    "                vetorNomes.append(filme)\n",
    "        elif len(gen.values[0]) == 3:\n",
    "            c3=c1=gen.values[0][2]\n",
    "            if c3  == 'Thriller':\n",
    "                vetorNomes.append(filme)\n",
    "    elif genero == 19:\n",
    "\n",
    "        c1=gen.values[0][0]\n",
    "        if c1  == 'Western':\n",
    "            vetorNomes.append(filme)\n",
    "        elif len(gen.values[0]) == 2:\n",
    "            c2=gen.values[0][1]\n",
    "            if c2  == 'Western':\n",
    "                vetorNomes.append(filme)\n",
    "        elif len(gen.values[0]) == 3:\n",
    "            c3=c1=gen.values[0][2]\n",
    "            if c3  == 'Western':\n",
    "                vetorNomes.append(filme)      \n",
    "    i=i+1\n"
   ]
  },
  {
   "cell_type": "code",
   "execution_count": 15,
   "metadata": {},
   "outputs": [
    {
     "name": "stdout",
     "output_type": "stream",
     "text": [
      "[           tconst titleType   primaryTitle  originalTitle isAdult startYear  \\\n",
      "107989  tt0110357     movie  The Lion King  The Lion King       0      1994   \n",
      "\n",
      "       endYear runtimeMinutes                     genres  \n",
      "107989      \\N             88  Adventure,Animation,Drama  ,             tconst titleType      primaryTitle     originalTitle isAdult  \\\n",
      "1788794  tt1853728     movie  Django Unchained  Django Unchained       0   \n",
      "\n",
      "        startYear endYear runtimeMinutes         genres  \n",
      "1788794      2012      \\N            165  Drama,Western  ,            tconst titleType primaryTitle originalTitle isAdult startYear  \\\n",
      "919077  tt0947798     movie   Black Swan    Black Swan       0      2010   \n",
      "\n",
      "       endYear runtimeMinutes          genres  \n",
      "919077      \\N            108  Drama,Thriller  ,            tconst titleType  primaryTitle originalTitle isAdult startYear  \\\n",
      "107472  tt0109830     movie  Forrest Gump  Forrest Gump       0      1994   \n",
      "\n",
      "       endYear runtimeMinutes         genres  \n",
      "107472      \\N            142  Drama,Romance  ,            tconst titleType  primaryTitle originalTitle isAdult startYear  \\\n",
      "108536  tt0110912     movie  Pulp Fiction  Pulp Fiction       0      1994   \n",
      "\n",
      "       endYear runtimeMinutes       genres  \n",
      "108536      \\N            154  Crime,Drama  ,             tconst titleType      primaryTitle originalTitle isAdult  \\\n",
      "1618581  tt1675434     movie  The Intouchables  Intouchables       0   \n",
      "\n",
      "        startYear endYear runtimeMinutes                  genres  \n",
      "1618581      2011      \\N            112  Biography,Comedy,Drama  ,           tconst titleType primaryTitle originalTitle isAdult startYear  \\\n",
      "97528  tt0099685     movie   Goodfellas    Goodfellas       0      1990   \n",
      "\n",
      "      endYear runtimeMinutes       genres  \n",
      "97528      \\N            146  Crime,Drama  ,            tconst titleType         primaryTitle        originalTitle isAdult  \\\n",
      "389129  tt0405159     movie  Million Dollar Baby  Million Dollar Baby       0   \n",
      "\n",
      "       startYear endYear runtimeMinutes       genres  \n",
      "389129      2004      \\N            132  Drama,Sport  ,           tconst titleType            primaryTitle           originalTitle  \\\n",
      "70130  tt0071562     movie  The Godfather: Part II  The Godfather: Part II   \n",
      "\n",
      "      isAdult startYear endYear runtimeMinutes       genres  \n",
      "70130       0      1974      \\N            202  Crime,Drama  ,            tconst titleType         primaryTitle        originalTitle isAdult  \\\n",
      "118047  tt0120815     movie  Saving Private Ryan  Saving Private Ryan       0   \n",
      "\n",
      "       startYear endYear runtimeMinutes     genres  \n",
      "118047      1998      \\N            169  Drama,War  ,            tconst titleType       primaryTitle      originalTitle isAdult  \\\n",
      "116565  tt0119217     movie  Good Will Hunting  Good Will Hunting       0   \n",
      "\n",
      "       startYear endYear runtimeMinutes         genres  \n",
      "116565      1997      \\N            126  Drama,Romance  ,            tconst titleType                         primaryTitle  \\\n",
      "405257  tt0421715     movie  The Curious Case of Benjamin Button   \n",
      "\n",
      "                              originalTitle isAdult startYear endYear  \\\n",
      "405257  The Curious Case of Benjamin Button       0      2008      \\N   \n",
      "\n",
      "       runtimeMinutes                 genres  \n",
      "405257            166  Drama,Fantasy,Romance  ,             tconst titleType primaryTitle originalTitle isAdult startYear  \\\n",
      "1405416  tt1454468     movie      Gravity       Gravity       0      2013   \n",
      "\n",
      "        endYear runtimeMinutes                 genres  \n",
      "1405416      \\N             91  Drama,Sci-Fi,Thriller  ,           tconst titleType                     primaryTitle  \\\n",
      "72004  tt0073486     movie  One Flew Over the Cuckoo's Nest   \n",
      "\n",
      "                         originalTitle isAdult startYear endYear  \\\n",
      "72004  One Flew Over the Cuckoo's Nest       0      1975      \\N   \n",
      "\n",
      "      runtimeMinutes genres  \n",
      "72004            133  Drama  ,           tconst titleType   primaryTitle  originalTitle isAdult startYear  \\\n",
      "67307  tt0068646     movie  The Godfather  The Godfather       0      1972   \n",
      "\n",
      "      endYear runtimeMinutes       genres  \n",
      "67307      \\N            175  Crime,Drama  ,            tconst titleType                                   primaryTitle  \\\n",
      "161862  tt0167260     movie  The Lord of the Rings: The Return of the King   \n",
      "\n",
      "                                        originalTitle isAdult startYear  \\\n",
      "161862  The Lord of the Rings: The Return of the King       0      2003   \n",
      "\n",
      "       endYear runtimeMinutes                  genres  \n",
      "161862      \\N            201  Action,Adventure,Drama  ,           tconst titleType primaryTitle originalTitle isAdult startYear  \\\n",
      "73779  tt0075314     movie  Taxi Driver   Taxi Driver       0      1976   \n",
      "\n",
      "      endYear runtimeMinutes       genres  \n",
      "73779      \\N            114  Crime,Drama  ,            tconst titleType      primaryTitle     originalTitle isAdult  \\\n",
      "258017  tt0268978     movie  A Beautiful Mind  A Beautiful Mind       0   \n",
      "\n",
      "       startYear endYear runtimeMinutes           genres  \n",
      "258017      2001      \\N            135  Biography,Drama  ,            tconst titleType     primaryTitle    originalTitle isAdult  \\\n",
      "161995  tt0167404     movie  The Sixth Sense  The Sixth Sense       0   \n",
      "\n",
      "       startYear endYear runtimeMinutes                  genres  \n",
      "161995      1999      \\N            107  Drama,Mystery,Thriller  ,            tconst titleType         primaryTitle        originalTitle isAdult  \\\n",
      "174002  tt0180093     movie  Requiem for a Dream  Requiem for a Dream       0   \n",
      "\n",
      "       startYear endYear runtimeMinutes genres  \n",
      "174002      2000      \\N            102  Drama  ,            tconst titleType primaryTitle originalTitle isAdult startYear  \\\n",
      "757127  tt0780504     movie        Drive         Drive       0      2011   \n",
      "\n",
      "       endYear runtimeMinutes       genres  \n",
      "757127      \\N            100  Crime,Drama  ,           tconst titleType  primaryTitle originalTitle isAdult startYear  \\\n",
      "49210  tt0050083     movie  12 Angry Men  12 Angry Men       0      1957   \n",
      "\n",
      "      endYear runtimeMinutes       genres  \n",
      "49210      \\N             96  Crime,Drama  ,            tconst titleType         primaryTitle        originalTitle isAdult  \\\n",
      "253729  tt0264464     movie  Catch Me If You Can  Catch Me If You Can       0   \n",
      "\n",
      "       startYear endYear runtimeMinutes                 genres  \n",
      "253729      2002      \\N            141  Biography,Crime,Drama  ,            tconst titleType   primaryTitle  originalTitle isAdult startYear  \\\n",
      "115359  tt0117951     movie  Trainspotting  Trainspotting       0      1996   \n",
      "\n",
      "       endYear runtimeMinutes genres  \n",
      "115359      \\N             93  Drama  ,            tconst titleType primaryTitle originalTitle isAdult startYear  \\\n",
      "117635  tt0120338     movie      Titanic       Titanic       0      1997   \n",
      "\n",
      "       endYear runtimeMinutes         genres  \n",
      "117635      \\N            194  Drama,Romance  ,             tconst titleType primaryTitle originalTitle isAdult startYear  \\\n",
      "2370888  tt2582802     movie     Whiplash      Whiplash       0      2014   \n",
      "\n",
      "        endYear runtimeMinutes       genres  \n",
      "2370888      \\N            106  Drama,Music  ,             tconst titleType primaryTitle originalTitle isAdult startYear  \\\n",
      "1166292  tt1205489     movie  Gran Torino   Gran Torino       0      2008   \n",
      "\n",
      "        endYear runtimeMinutes genres  \n",
      "1166292      \\N            116  Drama  ,            tconst titleType     primaryTitle    originalTitle isAdult  \\\n",
      "163975  tt0169547     movie  American Beauty  American Beauty       0   \n",
      "\n",
      "       startYear endYear runtimeMinutes genres  \n",
      "163975      1999      \\N            122  Drama  ,             tconst titleType        primaryTitle       originalTitle isAdult  \\\n",
      "1242277  tt1285016     movie  The Social Network  The Social Network       0   \n",
      "\n",
      "        startYear endYear runtimeMinutes           genres  \n",
      "1242277      2010      \\N            120  Biography,Drama  ,            tconst titleType   primaryTitle  originalTitle isAdult startYear  \\\n",
      "736080  tt0758758     movie  Into the Wild  Into the Wild       0      2007   \n",
      "\n",
      "       endYear runtimeMinutes                     genres  \n",
      "736080      \\N            148  Adventure,Biography,Drama  ,            tconst titleType primaryTitle originalTitle isAdult startYear  \\\n",
      "133763  tt0137523     movie   Fight Club    Fight Club       0      1999   \n",
      "\n",
      "       endYear runtimeMinutes genres  \n",
      "133763      \\N            139  Drama  ,            tconst titleType         primaryTitle        originalTitle isAdult  \\\n",
      "979433  tt1010048     movie  Slumdog Millionaire  Slumdog Millionaire       0   \n",
      "\n",
      "       startYear endYear runtimeMinutes         genres  \n",
      "979433      2008      \\N            120  Drama,Romance  ,           tconst titleType    primaryTitle   originalTitle isAdult startYear  \\\n",
      "77164  tt0078788     movie  Apocalypse Now  Apocalypse Now       0      1979   \n",
      "\n",
      "      endYear runtimeMinutes     genres  \n",
      "77164      \\N            147  Drama,War  ,           tconst titleType primaryTitle originalTitle isAdult startYear  \\\n",
      "84411  tt0086250     movie     Scarface      Scarface       0      1983   \n",
      "\n",
      "      endYear runtimeMinutes       genres  \n",
      "84411      \\N            170  Crime,Drama  ,            tconst titleType        primaryTitle       originalTitle isAdult  \\\n",
      "117864  tt0120586     movie  American History X  American History X       0   \n",
      "\n",
      "       startYear endYear runtimeMinutes       genres  \n",
      "117864      1998      \\N            119  Crime,Drama  ,           tconst titleType       primaryTitle      originalTitle isAdult  \\\n",
      "91059  tt0093058     movie  Full Metal Jacket  Full Metal Jacket       0   \n",
      "\n",
      "      startYear endYear runtimeMinutes     genres  \n",
      "91059      1987      \\N            116  Drama,War  ,            tconst titleType primaryTitle originalTitle isAdult startYear  \\\n",
      "462247  tt0480249     movie  I Am Legend   I Am Legend       0      2007   \n",
      "\n",
      "       endYear runtimeMinutes               genres  \n",
      "462247      \\N            101  Drama,Horror,Sci-Fi  ,            tconst titleType     primaryTitle           originalTitle isAdult  \\\n",
      "440067  tt0457430     movie  Pan's Labyrinth  El laberinto del fauno       0   \n",
      "\n",
      "       startYear endYear runtimeMinutes             genres  \n",
      "440067      2006      \\N            118  Drama,Fantasy,War  ,            tconst titleType              primaryTitle  \\\n",
      "108783  tt0111161     movie  The Shawshank Redemption   \n",
      "\n",
      "                   originalTitle isAdult startYear endYear runtimeMinutes  \\\n",
      "108783  The Shawshank Redemption       0      1994      \\N            142   \n",
      "\n",
      "       genres  \n",
      "108783  Drama  ,             tconst titleType              primaryTitle  \\\n",
      "2186651  tt2278388     movie  The Grand Budapest Hotel   \n",
      "\n",
      "                    originalTitle isAdult startYear endYear runtimeMinutes  \\\n",
      "2186651  The Grand Budapest Hotel       0      2014      \\N             99   \n",
      "\n",
      "                         genres  \n",
      "2186651  Adventure,Comedy,Drama  ,            tconst titleType primaryTitle originalTitle isAdult startYear  \\\n",
      "166800  tt0172495     movie    Gladiator     Gladiator       0      2000   \n",
      "\n",
      "       endYear runtimeMinutes                  genres  \n",
      "166800      \\N            155  Action,Adventure,Drama  ,            tconst titleType     primaryTitle    originalTitle isAdult  \\\n",
      "450921  tt0468569     movie  The Dark Knight  The Dark Knight       0   \n",
      "\n",
      "       startYear endYear runtimeMinutes              genres  \n",
      "450921      2008      \\N            152  Action,Crime,Drama  ,            tconst titleType  primaryTitle originalTitle isAdult startYear  \\\n",
      "236616  tt0246578     movie  Donnie Darko  Donnie Darko       0      2001   \n",
      "\n",
      "       endYear runtimeMinutes                 genres  \n",
      "236616      \\N            113  Drama,Sci-Fi,Thriller  ,            tconst titleType  primaryTitle originalTitle isAdult startYear  \\\n",
      "464499  tt0482571     movie  The Prestige  The Prestige       0      2006   \n",
      "\n",
      "       endYear runtimeMinutes                genres  \n",
      "464499      \\N            130  Drama,Mystery,Sci-Fi  ,           tconst titleType primaryTitle originalTitle isAdult startYear  \\\n",
      "79795  tt0081505     movie  The Shining   The Shining       0      1980   \n",
      "\n",
      "      endYear runtimeMinutes        genres  \n",
      "79795      \\N            146  Drama,Horror  ,            tconst titleType primaryTitle   originalTitle isAdult startYear  \\\n",
      "304261  tt0317248     movie  City of God  Cidade de Deus       0      2002   \n",
      "\n",
      "       endYear runtimeMinutes       genres  \n",
      "304261      \\N            130  Crime,Drama  ,            tconst titleType                           primaryTitle  \\\n",
      "324442  tt0338013     movie  Eternal Sunshine of the Spotless Mind   \n",
      "\n",
      "                                originalTitle isAdult startYear endYear  \\\n",
      "324442  Eternal Sunshine of the Spotless Mind       0      2004      \\N   \n",
      "\n",
      "       runtimeMinutes                genres  \n",
      "324442            108  Drama,Romance,Sci-Fi  ]\n",
      "['The Lion King']\n",
      "['Django Unchained']\n",
      "['Black Swan']\n",
      "['Forrest Gump']\n",
      "['Pulp Fiction']\n",
      "['The Intouchables']\n",
      "['Goodfellas']\n",
      "['Million Dollar Baby']\n",
      "['The Godfather: Part II']\n",
      "['Saving Private Ryan']\n",
      "['Good Will Hunting']\n",
      "['The Curious Case of Benjamin Button']\n",
      "['Gravity']\n",
      "[\"One Flew Over the Cuckoo's Nest\"]\n",
      "['The Godfather']\n",
      "['The Lord of the Rings: The Return of the King']\n",
      "['Taxi Driver']\n",
      "['A Beautiful Mind']\n",
      "['The Sixth Sense']\n",
      "['Requiem for a Dream']\n",
      "['Drive']\n",
      "['12 Angry Men']\n",
      "['Catch Me If You Can']\n",
      "['Trainspotting']\n",
      "['Titanic']\n",
      "['Whiplash']\n",
      "['Gran Torino']\n",
      "['American Beauty']\n",
      "['The Social Network']\n",
      "['Into the Wild']\n",
      "['Fight Club']\n",
      "['Slumdog Millionaire']\n",
      "['Apocalypse Now']\n",
      "['Scarface']\n",
      "['American History X']\n",
      "['Full Metal Jacket']\n",
      "['I Am Legend']\n",
      "[\"Pan's Labyrinth\"]\n",
      "['The Shawshank Redemption']\n",
      "['The Grand Budapest Hotel']\n",
      "['Gladiator']\n",
      "['The Dark Knight']\n",
      "['Donnie Darko']\n",
      "['The Prestige']\n",
      "['The Shining']\n",
      "['City of God']\n",
      "['Eternal Sunshine of the Spotless Mind']\n"
     ]
    }
   ],
   "source": [
    "print(vetorNomes)\n",
    "j= 0\n",
    "while j < len(vetorNomes):\n",
    "    print(vetorNomes[j]['primaryTitle'].values)\n",
    "    j = j+1"
   ]
  },
  {
   "cell_type": "code",
   "execution_count": 16,
   "metadata": {},
   "outputs": [
    {
     "name": "stdout",
     "output_type": "stream",
     "text": [
      "4\n"
     ]
    }
   ],
   "source": [
    "from tkinter import *\n",
    "root = tk.Tk()\n",
    "\n",
    "v = tk.IntVar()\n",
    "v.set(1)  # initializing the choice, i.e. Python\n",
    "\n",
    "root.geometry(\"750x600+200+50\")\n",
    "# Criando a barra de rolagem\n",
    "\n",
    "\n",
    "\n",
    "def fechar():\n",
    "    root.destroy()\n",
    "    \n",
    "    \n",
    "\n",
    "def ShowChoice():\n",
    "    tk.Label(root, \n",
    "         text=\"\"\"Obrigado pela escolha, clique em prosseguir!\"\"\",\n",
    "         justify = tk.LEFT,\n",
    "         padx = 20).pack()\n",
    "    \n",
    "\n",
    "tk.Label(root, \n",
    "         text=\"\"\"Destes filmes, escolha um que você assistiu e gostou:\"\"\",\n",
    "         justify = tk.LEFT,\n",
    "         padx = 20).pack()\n",
    "\n",
    "j = 0\n",
    "while j < len(vetorNomes) and j < 21:\n",
    "    tk.Radiobutton(root, \n",
    "                  text=vetorNomes[j]['primaryTitle'].values,\n",
    "                  variable=v, \n",
    "                  command= ShowChoice, \n",
    "                  value=j).pack(anchor=tk.W)\n",
    "\n",
    "    j = j+1\n",
    "tk.Radiobutton(root, \n",
    "                  text=\"Não assisti nenhum destes\",\n",
    "                  variable=v, \n",
    "                  command= ShowChoice,\n",
    "                  value=j).pack(anchor=tk.W)\n",
    "\n",
    "\n",
    "tk.Button(root, text = \"Prosseguir\",justify = tk.LEFT,\n",
    "         padx = 20, command = fechar).pack()\n",
    "\n",
    "root.mainloop()\n",
    "escolha = v.get()+1\n",
    "str(escolha)\n",
    "print(escolha)"
   ]
  },
  {
   "cell_type": "code",
   "execution_count": 17,
   "metadata": {},
   "outputs": [],
   "source": [
    "from random import *\n",
    "\n",
    "if escolha == (len(vetorNomes)+1):\n",
    "    root = tk.Tk()\n",
    "\n",
    "    \n",
    "    def ShowChoice():\n",
    "        tk.Label(root, \n",
    "         text=\"Por favor, assista ao filme: \" + idF,\n",
    "         justify = tk.LEFT,\n",
    "         padx = 20).pack()\n",
    "    \n",
    "        \n",
    "    \n",
    "    def fechar():\n",
    "        root.destroy()\n",
    "    \n",
    "    filmeSelecionado = randint(0, len(vetorNomes)-1)    # Pick a random number between 1 and 100.\n",
    "    #print(filmeSelecionado)\n",
    "    #print(vetorNomes[filmeSelecionado])\n",
    "    idF = vetorNomes[filmeSelecionado]['primaryTitle'].values\n",
    "    \n",
    "    ShowChoice()\n",
    "        \n",
    "    tk.Button(root, text = \"Fechar\",justify = tk.LEFT,\n",
    "         padx = 20, command = fechar).pack()\n",
    "\n",
    "    root.mainloop()"
   ]
  },
  {
   "cell_type": "code",
   "execution_count": 18,
   "metadata": {},
   "outputs": [
    {
     "data": {
      "text/plain": [
       "(5419681, 3)"
      ]
     },
     "execution_count": 18,
     "metadata": {},
     "output_type": "execute_result"
    }
   ],
   "source": [
    "#importando base 3\n",
    "imdbDiretores=pandas.read_csv(\"titleCrew.tsv\", sep='\\t',dtype={\n",
    "    \"tconst\": str, \n",
    "    'directors': str,\n",
    "    'writers': str})\n",
    "\n",
    "\n",
    "imdbDiretores.shape"
   ]
  },
  {
   "cell_type": "code",
   "execution_count": 19,
   "metadata": {},
   "outputs": [],
   "source": [
    "diretores = pandas.DataFrame(imdbDiretores, columns=['tconst', 'directors'])\n",
    "#diretores.head(10)"
   ]
  },
  {
   "cell_type": "code",
   "execution_count": 20,
   "metadata": {},
   "outputs": [],
   "source": [
    "tituloEscolhido = vetorNomes[escolha-1]['tconst'].values\n",
    "#print(tituloEscolhido)"
   ]
  },
  {
   "cell_type": "code",
   "execution_count": 21,
   "metadata": {},
   "outputs": [
    {
     "name": "stdout",
     "output_type": "stream",
     "text": [
      "107472    [nm0000709]\n",
      "Name: directors, dtype: object\n"
     ]
    }
   ],
   "source": [
    "#acha os diretores\n",
    "l=0\n",
    "found = 0\n",
    "while l<len(diretores) and found == 0:\n",
    "    f = set(tituloEscolhido) & set(diretores['tconst'])\n",
    "    fil = list(f)\n",
    "    dir = diretores[diretores['tconst'] == fil[0]]['directors'].apply(lambda x: x.split(','))\n",
    "    print(dir) \n",
    "    found=1\n",
    "    l=l+1"
   ]
  },
  {
   "cell_type": "code",
   "execution_count": 22,
   "metadata": {},
   "outputs": [
    {
     "data": {
      "text/plain": [
       "(8969885, 6)"
      ]
     },
     "execution_count": 22,
     "metadata": {},
     "output_type": "execute_result"
    }
   ],
   "source": [
    "#importa 4 base\n",
    "imdbPessoas = pandas.read_csv(\"nameBasics.tsv\", sep='\\t',dtype= { \"nconst\": str,\n",
    "                                                                'primaryName': str,\n",
    "                                                                'birthYear': str,\n",
    "                                                                'deathYear': str,\n",
    "                                                                'primaryProfession': str,\n",
    "                                                                'knownForTitles': str})\n",
    "\n",
    "imdbPessoas.shape"
   ]
  },
  {
   "cell_type": "code",
   "execution_count": 23,
   "metadata": {},
   "outputs": [],
   "source": [
    "pessoas = pandas.DataFrame(imdbPessoas, columns=['nconst', 'knownForTitles'])\n",
    "#pessoas.head(10)"
   ]
  },
  {
   "cell_type": "code",
   "execution_count": 24,
   "metadata": {},
   "outputs": [
    {
     "name": "stdout",
     "output_type": "stream",
     "text": [
      "708    [tt1907668, tt0088763, tt0118884, tt0109830]\n",
      "Name: knownForTitles, dtype: object\n",
      "['tt1907668', 'tt0088763', 'tt0118884', 'tt0109830']\n"
     ]
    }
   ],
   "source": [
    "#pegando os filmes do diretor do filme escolhido\n",
    "d1=dir.values[0][0]\n",
    "tem2=0\n",
    "if len(dir.values[0])>1:\n",
    "    d2=dir.values[0][1]\n",
    "    tem2=1\n",
    "k=0\n",
    "aux = pessoas.values[k][0]\n",
    "found1=0\n",
    "found2=0\n",
    "vetorFilmes = []\n",
    "\n",
    "while k<len(pessoas)and (found1==0 or found2==0):\n",
    "    if aux == d1:\n",
    "        fil1 = pessoas[pessoas['nconst'] == d1]['knownForTitles'].apply(lambda x: x.split(','))\n",
    "        found1=1\n",
    "        if tem2==0:\n",
    "            found2=1\n",
    "        print(fil1)\n",
    "        q=0\n",
    "        while q<len(fil1.values[0]):\n",
    "            vetorFilmes.append(fil1.values[0][q])\n",
    "            q=q+1\n",
    "        \n",
    "    elif tem2==1 and aux == d2:\n",
    "        fil2 = pessoas[pessoas['nconst'] == d2]['knownForTitles'].apply(lambda x: x.split(','))\n",
    "        found2=1\n",
    "        print(fil2)\n",
    "        q=0\n",
    "        while q<len(fil2.values[0]):\n",
    "            vetorFilmes.append(fil2.values[0][q])\n",
    "            q=q+1\n",
    "    k=k+1\n",
    "    aux = pessoas.values[k][0];\n",
    "print(vetorFilmes)"
   ]
  },
  {
   "cell_type": "code",
   "execution_count": 25,
   "metadata": {},
   "outputs": [
    {
     "data": {
      "text/plain": [
       "(30894304, 6)"
      ]
     },
     "execution_count": 25,
     "metadata": {},
     "output_type": "execute_result"
    }
   ],
   "source": [
    "#importa 5 base\n",
    "imdbAtores = pandas.read_csv(\"titlePrincipals.tsv\", sep='\\t',dtype= { \"tconst\": str,\n",
    "                                                                'ordering': str,\n",
    "                                                                'nconst': str,\n",
    "                                                                'category': str,\n",
    "                                                                'job': str,\n",
    "                                                                'characters': str})\n",
    "\n",
    "imdbAtores.shape"
   ]
  },
  {
   "cell_type": "code",
   "execution_count": 26,
   "metadata": {},
   "outputs": [],
   "source": [
    "at = pandas.DataFrame(imdbAtores, columns=['tconst', 'nconst', 'category'])\n",
    "#at.head(10)"
   ]
  },
  {
   "cell_type": "code",
   "execution_count": 27,
   "metadata": {},
   "outputs": [],
   "source": [
    "atores = at[at['category']=='actor']\n",
    "#atores.head(10)"
   ]
  },
  {
   "cell_type": "code",
   "execution_count": 28,
   "metadata": {},
   "outputs": [
    {
     "name": "stdout",
     "output_type": "stream",
     "text": [
      "933356    nm0000158\n",
      "933358    nm0000641\n",
      "Name: nconst, dtype: object\n"
     ]
    }
   ],
   "source": [
    "b=0\n",
    "vetorAtores = []\n",
    "qtd=0\n",
    "ff = set(tituloEscolhido) & set(atores['tconst'])\n",
    "ffil = list(ff)\n",
    "while b<len(atores) and qtd == 0:\n",
    "    z=0\n",
    "    while z<len(ffil): \n",
    "        atr = atores[atores['tconst'] == ffil[z]]['nconst']\n",
    "        qtd=1\n",
    "        print(atr)\n",
    "        z=z+1\n",
    "  \n",
    "    b=b+1"
   ]
  },
  {
   "cell_type": "code",
   "execution_count": 29,
   "metadata": {},
   "outputs": [
    {
     "name": "stdout",
     "output_type": "stream",
     "text": [
      "nm0000641\n"
     ]
    }
   ],
   "source": [
    "print(atr.values[1])"
   ]
  },
  {
   "cell_type": "code",
   "execution_count": 30,
   "metadata": {},
   "outputs": [
    {
     "name": "stdout",
     "output_type": "stream",
     "text": [
      "157    [tt0162222, tt0094737, tt0109830, tt0120815]\n",
      "Name: knownForTitles, dtype: object\n",
      "640    [tt0105046, tt0117438, tt0112384, tt0109830]\n",
      "Name: knownForTitles, dtype: object\n",
      "['tt1907668', 'tt0088763', 'tt0118884', 'tt0109830', 'tt0162222', 'tt0094737', 'tt0109830', 'tt0120815', 'tt0105046', 'tt0117438', 'tt0112384', 'tt0109830']\n"
     ]
    }
   ],
   "source": [
    "#pegando os filmes dos atores do filme escolhido\n",
    "d1=atr.values[0]\n",
    "tem2=0\n",
    "if len(atr)>1:\n",
    "    d2=atr.values[1]\n",
    "    tem2=1\n",
    "k=0\n",
    "aux = pessoas.values[k][0]\n",
    "found1=0\n",
    "found2=0\n",
    "while k<len(pessoas)and (found1==0 or found2==0):\n",
    "    if aux == d1:\n",
    "        fil1 = pessoas[pessoas['nconst'] == d1]['knownForTitles'].apply(lambda x: x.split(','))\n",
    "        found1=1\n",
    "        if tem2==0:\n",
    "            found2=1\n",
    "        print(fil1)\n",
    "        q=0\n",
    "        while q<len(fil1.values[0]):\n",
    "            vetorFilmes.append(fil1.values[0][q])\n",
    "            q=q+1\n",
    "        \n",
    "    elif tem2==1 and aux == d2:\n",
    "        fil2 = pessoas[pessoas['nconst'] == d2]['knownForTitles'].apply(lambda x: x.split(','))\n",
    "        found2=1\n",
    "        print(fil2)\n",
    "        q=0\n",
    "        while q<len(fil2.values[0]):\n",
    "            vetorFilmes.append(fil2.values[0][q])\n",
    "            q=q+1\n",
    "    k=k+1\n",
    "    aux = pessoas.values[k][0];\n",
    "print(vetorFilmes)"
   ]
  },
  {
   "cell_type": "code",
   "execution_count": 31,
   "metadata": {},
   "outputs": [
    {
     "name": "stdout",
     "output_type": "stream",
     "text": [
      "86857    Adventure,Comedy,Sci-Fi\n",
      "Name: genres, dtype: object\n",
      "107472    Drama,Romance\n",
      "Name: genres, dtype: object\n",
      "118047    Drama,War\n",
      "Name: genres, dtype: object\n"
     ]
    }
   ],
   "source": [
    "teste = set(coluna) & set(vetorFilmes)\n",
    "teste\n",
    "for x in teste:\n",
    "    print(filmes[filmes['tconst'] == x]['genres'])"
   ]
  },
  {
   "cell_type": "code",
   "execution_count": 32,
   "metadata": {},
   "outputs": [],
   "source": [
    "#remove o titulo escolhido\n",
    "my_list = list(teste)\n",
    "for x in my_list:\n",
    "    if tituloEscolhido == x:\n",
    "        my_list.remove(tituloEscolhido);\n",
    "        "
   ]
  },
  {
   "cell_type": "code",
   "execution_count": 33,
   "metadata": {},
   "outputs": [
    {
     "data": {
      "text/plain": [
       "['tt0088763', 'tt0120815']"
      ]
     },
     "execution_count": 33,
     "metadata": {},
     "output_type": "execute_result"
    }
   ],
   "source": [
    "my_list"
   ]
  },
  {
   "cell_type": "code",
   "execution_count": 34,
   "metadata": {},
   "outputs": [
    {
     "name": "stdout",
     "output_type": "stream",
     "text": [
      "2\n",
      "1\n",
      "Codigo do filme selecionado: \n",
      "tt0120815\n"
     ]
    }
   ],
   "source": [
    "print(len(my_list))\n",
    "from random import *\n",
    " \n",
    "filmeSelecionado = randint(0, len(my_list)-1)    # Pick a random number between 1 and 100.\n",
    "print(filmeSelecionado)\n",
    "\n",
    "print('Codigo do filme selecionado: ')\n",
    "cod = my_list[filmeSelecionado];\n",
    "print(cod)"
   ]
  },
  {
   "cell_type": "code",
   "execution_count": 35,
   "metadata": {},
   "outputs": [],
   "source": [
    "nFilme = filmes[filmes['tconst'] == cod]['primaryTitle'].values"
   ]
  },
  {
   "cell_type": "code",
   "execution_count": 36,
   "metadata": {},
   "outputs": [],
   "source": [
    "root = tk.Tk()\n",
    "\n",
    "def ShowChoice():\n",
    "    tk.Label(root, \n",
    "         text=\"Por favor, assista ao filme: \" + nFilme,\n",
    "         justify = tk.LEFT,\n",
    "         padx = 20).pack()\n",
    "    \n",
    "        \n",
    "    \n",
    "def fechar():\n",
    "    root.destroy()\n",
    "    \n",
    "    \n",
    "ShowChoice()\n",
    "        \n",
    "tk.Button(root, text = \"Fechar\",justify = tk.LEFT,\n",
    "         padx = 20, command = fechar).pack()\n",
    "\n",
    "root.mainloop()\n"
   ]
  },
  {
   "cell_type": "code",
   "execution_count": null,
   "metadata": {},
   "outputs": [],
   "source": []
  }
 ],
 "metadata": {
  "kernelspec": {
   "display_name": "Python 3",
   "language": "python",
   "name": "python3"
  },
  "language_info": {
   "codemirror_mode": {
    "name": "ipython",
    "version": 3
   },
   "file_extension": ".py",
   "mimetype": "text/x-python",
   "name": "python",
   "nbconvert_exporter": "python",
   "pygments_lexer": "ipython3",
   "version": "3.6.5"
  }
 },
 "nbformat": 4,
 "nbformat_minor": 2
}
